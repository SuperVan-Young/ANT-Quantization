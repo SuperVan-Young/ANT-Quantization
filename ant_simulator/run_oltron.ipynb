{
 "cells": [
  {
   "cell_type": "code",
   "execution_count": 1,
   "metadata": {},
   "outputs": [],
   "source": [
    "from re import I\n",
    "import pandas\n",
    "import configparser\n",
    "import os\n",
    "import numpy as np\n",
    "import bitfusion.src.benchmarks.benchmarks as benchmarks\n",
    "from bitfusion.src.simulator.stats import Stats\n",
    "from bitfusion.src.simulator.simulator import Simulator\n",
    "from bitfusion.src.sweep.sweep import SimulatorSweep, check_pandas_or_run\n",
    "from bitfusion.src.utils.utils import *\n",
    "from bitfusion.src.optimizer.optimizer import optimize_for_order, get_stats_fast\n",
    "\n",
    "def df_to_stats(df):\n",
    "    stats = Stats()\n",
    "    stats.total_cycles = float(df['Cycles'].iloc[0])\n",
    "    stats.mem_stall_cycles = float(df['Memory wait cycles'].iloc[0])\n",
    "    stats.reads['act'] = float(df['IBUF Read'].iloc[0])\n",
    "    stats.reads['out'] = float(df['OBUF Read'].iloc[0])\n",
    "    stats.reads['wgt'] = float(df['WBUF Read'].iloc[0])\n",
    "    stats.reads['dram'] = float(df['DRAM Read'].iloc[0])\n",
    "    stats.writes['act'] = float(df['IBUF Write'].iloc[0])\n",
    "    stats.writes['out'] = float(df['OBUF Write'].iloc[0])\n",
    "    stats.writes['wgt'] = float(df['WBUF Write'].iloc[0])\n",
    "    stats.writes['dram'] = float(df['DRAM Write'].iloc[0])\n",
    "    return stats\n",
    "\n",
    "sim_sweep_columns = ['N', 'M',\n",
    "        'Max Precision (bits)', 'Min Precision (bits)',\n",
    "        'Network', 'Layer',\n",
    "        'Cycles', 'Memory wait cycles',\n",
    "        'WBUF Read', 'WBUF Write',\n",
    "        'OBUF Read', 'OBUF Write',\n",
    "        'IBUF Read', 'IBUF Write',\n",
    "        'DRAM Read', 'DRAM Write',\n",
    "        'Bandwidth (bits/cycle)',\n",
    "        'WBUF Size (bits)', 'OBUF Size (bits)', 'IBUF Size (bits)',\n",
    "        'Batch size']\n",
    "\n",
    "batch_size = 64\n",
    "\n",
    "list_bench = [\n",
    "    'llama7b',\n",
    "    'llama13b',\n",
    "    'llama30b',\n",
    "    'llama65b',\n",
    "    'opt6b',\n",
    "    'opt13b',\n",
    "    'opt30b',\n",
    "    'opt66b',\n",
    "]\n",
    "\n",
    "results_dir = './results'\n",
    "if not os.path.exists(results_dir):\n",
    "    os.makedirs(results_dir)"
   ]
  },
  {
   "cell_type": "code",
   "execution_count": 2,
   "metadata": {},
   "outputs": [
    {
     "name": "stderr",
     "output_type": "stream",
     "text": [
      "INFO:bitfusion.src.sweep.sweep.Simulator:Simulating Benchmark: llama7b\n",
      "INFO:bitfusion.src.sweep.sweep.Simulator:N x M = 32 x 32\n",
      "INFO:bitfusion.src.sweep.sweep.Simulator:Max Precision (bits): 8\n",
      "INFO:bitfusion.src.sweep.sweep.Simulator:Min Precision (bits): 4\n",
      "INFO:bitfusion.src.sweep.sweep.Simulator:Batch size: 64\n",
      "INFO:bitfusion.src.sweep.sweep.Simulator:Bandwidth (bits/cycle): 1024\n"
     ]
    },
    {
     "name": "stdout",
     "output_type": "stream",
     "text": [
      "No entry found in /home/xuechenhao/ANT-Quantization/ant_simulator/bitfusion/sram/cacti_sweep.csv, running cacti\n",
      "('/home/xuechenhao/ANT-Quantization/ant_simulator/bitfusion/sram/cacti/cacti', '-infile', '/home/xuechenhao/ANT-Quantization/ant_simulator/bitfusion/sram/sweep.cfg')\n",
      "No entry found in /home/xuechenhao/ANT-Quantization/ant_simulator/bitfusion/sram/cacti_sweep.csv, running cacti\n",
      "('/home/xuechenhao/ANT-Quantization/ant_simulator/bitfusion/sram/cacti/cacti', '-infile', '/home/xuechenhao/ANT-Quantization/ant_simulator/bitfusion/sram/sweep.cfg')\n",
      "No entry found in /home/xuechenhao/ANT-Quantization/ant_simulator/bitfusion/sram/cacti_sweep.csv, running cacti\n",
      "('/home/xuechenhao/ANT-Quantization/ant_simulator/bitfusion/sram/cacti/cacti', '-infile', '/home/xuechenhao/ANT-Quantization/ant_simulator/bitfusion/sram/sweep.cfg')\n"
     ]
    },
    {
     "name": "stderr",
     "output_type": "stream",
     "text": [
      "INFO:bitfusion.src.sweep.sweep.Simulator:Simulating Benchmark: llama13b\n",
      "INFO:bitfusion.src.sweep.sweep.Simulator:N x M = 32 x 32\n",
      "INFO:bitfusion.src.sweep.sweep.Simulator:Max Precision (bits): 8\n",
      "INFO:bitfusion.src.sweep.sweep.Simulator:Min Precision (bits): 4\n",
      "INFO:bitfusion.src.sweep.sweep.Simulator:Batch size: 64\n",
      "INFO:bitfusion.src.sweep.sweep.Simulator:Bandwidth (bits/cycle): 1024\n",
      "INFO:bitfusion.src.sweep.sweep.Simulator:Simulating Benchmark: llama30b\n",
      "INFO:bitfusion.src.sweep.sweep.Simulator:N x M = 32 x 32\n",
      "INFO:bitfusion.src.sweep.sweep.Simulator:Max Precision (bits): 8\n",
      "INFO:bitfusion.src.sweep.sweep.Simulator:Min Precision (bits): 4\n",
      "INFO:bitfusion.src.sweep.sweep.Simulator:Batch size: 64\n",
      "INFO:bitfusion.src.sweep.sweep.Simulator:Bandwidth (bits/cycle): 1024\n",
      "INFO:bitfusion.src.sweep.sweep.Simulator:Simulating Benchmark: llama65b\n",
      "INFO:bitfusion.src.sweep.sweep.Simulator:N x M = 32 x 32\n",
      "INFO:bitfusion.src.sweep.sweep.Simulator:Max Precision (bits): 8\n",
      "INFO:bitfusion.src.sweep.sweep.Simulator:Min Precision (bits): 4\n",
      "INFO:bitfusion.src.sweep.sweep.Simulator:Batch size: 64\n",
      "INFO:bitfusion.src.sweep.sweep.Simulator:Bandwidth (bits/cycle): 1024\n",
      "INFO:bitfusion.src.sweep.sweep.Simulator:Simulating Benchmark: opt6b\n",
      "INFO:bitfusion.src.sweep.sweep.Simulator:N x M = 32 x 32\n",
      "INFO:bitfusion.src.sweep.sweep.Simulator:Max Precision (bits): 8\n",
      "INFO:bitfusion.src.sweep.sweep.Simulator:Min Precision (bits): 4\n",
      "INFO:bitfusion.src.sweep.sweep.Simulator:Batch size: 64\n",
      "INFO:bitfusion.src.sweep.sweep.Simulator:Bandwidth (bits/cycle): 1024\n",
      "INFO:bitfusion.src.sweep.sweep.Simulator:Simulating Benchmark: opt13b\n",
      "INFO:bitfusion.src.sweep.sweep.Simulator:N x M = 32 x 32\n",
      "INFO:bitfusion.src.sweep.sweep.Simulator:Max Precision (bits): 8\n",
      "INFO:bitfusion.src.sweep.sweep.Simulator:Min Precision (bits): 4\n",
      "INFO:bitfusion.src.sweep.sweep.Simulator:Batch size: 64\n",
      "INFO:bitfusion.src.sweep.sweep.Simulator:Bandwidth (bits/cycle): 1024\n",
      "INFO:bitfusion.src.sweep.sweep.Simulator:Simulating Benchmark: opt30b\n",
      "INFO:bitfusion.src.sweep.sweep.Simulator:N x M = 32 x 32\n",
      "INFO:bitfusion.src.sweep.sweep.Simulator:Max Precision (bits): 8\n",
      "INFO:bitfusion.src.sweep.sweep.Simulator:Min Precision (bits): 4\n",
      "INFO:bitfusion.src.sweep.sweep.Simulator:Batch size: 64\n",
      "INFO:bitfusion.src.sweep.sweep.Simulator:Bandwidth (bits/cycle): 1024\n",
      "INFO:bitfusion.src.sweep.sweep.Simulator:Simulating Benchmark: opt66b\n",
      "INFO:bitfusion.src.sweep.sweep.Simulator:N x M = 32 x 32\n",
      "INFO:bitfusion.src.sweep.sweep.Simulator:Max Precision (bits): 8\n",
      "INFO:bitfusion.src.sweep.sweep.Simulator:Min Precision (bits): 4\n",
      "INFO:bitfusion.src.sweep.sweep.Simulator:Batch size: 64\n",
      "INFO:bitfusion.src.sweep.sweep.Simulator:Bandwidth (bits/cycle): 1024\n"
     ]
    }
   ],
   "source": [
    "# ANT configuration file\n",
    "config_file = 'conf_ant.ini'\n",
    "# Create simulator object\n",
    "bf_e_sim = Simulator(config_file, False)\n",
    "bf_e_sim_sweep_csv = os.path.join(results_dir, 'ant_os.csv')\n",
    "bf_e_sim_sweep_df = pandas.DataFrame(columns=sim_sweep_columns)\n",
    "# TODO: use list bench to only call OPT and LLAMA\n",
    "bf_e_results = check_pandas_or_run(bf_e_sim, bf_e_sim_sweep_df, bf_e_sim_sweep_csv, \n",
    "                                   batch_size=batch_size, bench_type='ant', list_bench=list_bench)\n",
    "bf_e_results = bf_e_results.groupby('Network',as_index=False).agg(np.sum)\n",
    "bf_e_cycles_ant = []\n",
    "bf_e_energy_ant = []\n",
    "for name in list_bench:\n",
    "    bf_e_stats = df_to_stats(bf_e_results.loc[bf_e_results['Network'] == name])\n",
    "    bf_e_cycles_ant.append(bf_e_stats.total_cycles)\n",
    "    bf_e_energy_ant.append(bf_e_stats.get_energy_breakdown(bf_e_sim.get_energy_cost()))"
   ]
  },
  {
   "cell_type": "code",
   "execution_count": 3,
   "metadata": {},
   "outputs": [
    {
     "name": "stderr",
     "output_type": "stream",
     "text": [
      "INFO:bitfusion.src.sweep.sweep.Simulator:Simulating Benchmark: llama7b\n",
      "INFO:bitfusion.src.sweep.sweep.Simulator:N x M = 16 x 18\n",
      "INFO:bitfusion.src.sweep.sweep.Simulator:Max Precision (bits): 8\n",
      "INFO:bitfusion.src.sweep.sweep.Simulator:Min Precision (bits): 4\n",
      "INFO:bitfusion.src.sweep.sweep.Simulator:Batch size: 64\n",
      "INFO:bitfusion.src.sweep.sweep.Simulator:Bandwidth (bits/cycle): 1024\n"
     ]
    },
    {
     "name": "stdout",
     "output_type": "stream",
     "text": [
      "No entry found in /home/xuechenhao/ANT-Quantization/ant_simulator/bitfusion/sram/cacti_sweep.csv, running cacti\n",
      "('/home/xuechenhao/ANT-Quantization/ant_simulator/bitfusion/sram/cacti/cacti', '-infile', '/home/xuechenhao/ANT-Quantization/ant_simulator/bitfusion/sram/sweep.cfg')\n",
      "No entry found in /home/xuechenhao/ANT-Quantization/ant_simulator/bitfusion/sram/cacti_sweep.csv, running cacti\n",
      "('/home/xuechenhao/ANT-Quantization/ant_simulator/bitfusion/sram/cacti/cacti', '-infile', '/home/xuechenhao/ANT-Quantization/ant_simulator/bitfusion/sram/sweep.cfg')\n",
      "No entry found in /home/xuechenhao/ANT-Quantization/ant_simulator/bitfusion/sram/cacti_sweep.csv, running cacti\n",
      "('/home/xuechenhao/ANT-Quantization/ant_simulator/bitfusion/sram/cacti/cacti', '-infile', '/home/xuechenhao/ANT-Quantization/ant_simulator/bitfusion/sram/sweep.cfg')\n"
     ]
    },
    {
     "name": "stderr",
     "output_type": "stream",
     "text": [
      "INFO:bitfusion.src.sweep.sweep.Simulator:Simulating Benchmark: llama13b\n",
      "INFO:bitfusion.src.sweep.sweep.Simulator:N x M = 16 x 18\n",
      "INFO:bitfusion.src.sweep.sweep.Simulator:Max Precision (bits): 8\n",
      "INFO:bitfusion.src.sweep.sweep.Simulator:Min Precision (bits): 4\n",
      "INFO:bitfusion.src.sweep.sweep.Simulator:Batch size: 64\n",
      "INFO:bitfusion.src.sweep.sweep.Simulator:Bandwidth (bits/cycle): 1024\n",
      "INFO:bitfusion.src.sweep.sweep.Simulator:Simulating Benchmark: llama30b\n",
      "INFO:bitfusion.src.sweep.sweep.Simulator:N x M = 16 x 18\n",
      "INFO:bitfusion.src.sweep.sweep.Simulator:Max Precision (bits): 8\n",
      "INFO:bitfusion.src.sweep.sweep.Simulator:Min Precision (bits): 4\n",
      "INFO:bitfusion.src.sweep.sweep.Simulator:Batch size: 64\n",
      "INFO:bitfusion.src.sweep.sweep.Simulator:Bandwidth (bits/cycle): 1024\n",
      "INFO:bitfusion.src.sweep.sweep.Simulator:Simulating Benchmark: llama65b\n",
      "INFO:bitfusion.src.sweep.sweep.Simulator:N x M = 16 x 18\n",
      "INFO:bitfusion.src.sweep.sweep.Simulator:Max Precision (bits): 8\n",
      "INFO:bitfusion.src.sweep.sweep.Simulator:Min Precision (bits): 4\n",
      "INFO:bitfusion.src.sweep.sweep.Simulator:Batch size: 64\n",
      "INFO:bitfusion.src.sweep.sweep.Simulator:Bandwidth (bits/cycle): 1024\n",
      "INFO:bitfusion.src.sweep.sweep.Simulator:Simulating Benchmark: opt6b\n",
      "INFO:bitfusion.src.sweep.sweep.Simulator:N x M = 16 x 18\n",
      "INFO:bitfusion.src.sweep.sweep.Simulator:Max Precision (bits): 8\n",
      "INFO:bitfusion.src.sweep.sweep.Simulator:Min Precision (bits): 4\n",
      "INFO:bitfusion.src.sweep.sweep.Simulator:Batch size: 64\n",
      "INFO:bitfusion.src.sweep.sweep.Simulator:Bandwidth (bits/cycle): 1024\n",
      "INFO:bitfusion.src.sweep.sweep.Simulator:Simulating Benchmark: opt13b\n",
      "INFO:bitfusion.src.sweep.sweep.Simulator:N x M = 16 x 18\n",
      "INFO:bitfusion.src.sweep.sweep.Simulator:Max Precision (bits): 8\n",
      "INFO:bitfusion.src.sweep.sweep.Simulator:Min Precision (bits): 4\n",
      "INFO:bitfusion.src.sweep.sweep.Simulator:Batch size: 64\n",
      "INFO:bitfusion.src.sweep.sweep.Simulator:Bandwidth (bits/cycle): 1024\n",
      "INFO:bitfusion.src.sweep.sweep.Simulator:Simulating Benchmark: opt30b\n",
      "INFO:bitfusion.src.sweep.sweep.Simulator:N x M = 16 x 18\n",
      "INFO:bitfusion.src.sweep.sweep.Simulator:Max Precision (bits): 8\n",
      "INFO:bitfusion.src.sweep.sweep.Simulator:Min Precision (bits): 4\n",
      "INFO:bitfusion.src.sweep.sweep.Simulator:Batch size: 64\n",
      "INFO:bitfusion.src.sweep.sweep.Simulator:Bandwidth (bits/cycle): 1024\n",
      "INFO:bitfusion.src.sweep.sweep.Simulator:Simulating Benchmark: opt66b\n",
      "INFO:bitfusion.src.sweep.sweep.Simulator:N x M = 16 x 18\n",
      "INFO:bitfusion.src.sweep.sweep.Simulator:Max Precision (bits): 8\n",
      "INFO:bitfusion.src.sweep.sweep.Simulator:Min Precision (bits): 4\n",
      "INFO:bitfusion.src.sweep.sweep.Simulator:Batch size: 64\n",
      "INFO:bitfusion.src.sweep.sweep.Simulator:Bandwidth (bits/cycle): 1024\n"
     ]
    }
   ],
   "source": [
    "# OLAceel configuration file\n",
    "config_file = 'conf_olaccel.ini'\n",
    "# Create simulator object\n",
    "bf_e_sim = Simulator(config_file, False)\n",
    "bf_e_sim_sweep_csv = os.path.join(results_dir, 'olaceel.csv')\n",
    "bf_e_sim_sweep_df = pandas.DataFrame(columns=sim_sweep_columns)\n",
    "bf_e_results = check_pandas_or_run(bf_e_sim, bf_e_sim_sweep_df, bf_e_sim_sweep_csv, \n",
    "                                    batch_size=batch_size, bench_type='ola', list_bench=list_bench)\n",
    "bf_e_results = bf_e_results.groupby('Network',as_index=False).agg(np.sum)\n",
    "# area_stats = bf_e_sim.get_area()\n",
    "bf_e_cycles_ola = []\n",
    "bf_e_energy_ola = []\n",
    "for name in list_bench:\n",
    "    bf_e_stats = df_to_stats(bf_e_results.loc[bf_e_results['Network'] == name])\n",
    "    bf_e_cycles_ola.append(bf_e_stats.total_cycles)\n",
    "    bf_e_energy_ola.append(bf_e_stats.get_energy_breakdown(bf_e_sim.get_energy_cost()))"
   ]
  },
  {
   "cell_type": "code",
   "execution_count": 4,
   "metadata": {},
   "outputs": [
    {
     "name": "stderr",
     "output_type": "stream",
     "text": [
      "INFO:bitfusion.src.sweep.sweep.Simulator:Simulating Benchmark: llama7b\n",
      "INFO:bitfusion.src.sweep.sweep.Simulator:N x M = 64 x 64\n",
      "INFO:bitfusion.src.sweep.sweep.Simulator:Max Precision (bits): 4\n",
      "INFO:bitfusion.src.sweep.sweep.Simulator:Min Precision (bits): 4\n",
      "INFO:bitfusion.src.sweep.sweep.Simulator:Batch size: 64\n",
      "INFO:bitfusion.src.sweep.sweep.Simulator:Bandwidth (bits/cycle): 1024\n"
     ]
    },
    {
     "name": "stdout",
     "output_type": "stream",
     "text": [
      "No entry found in /home/xuechenhao/ANT-Quantization/ant_simulator/bitfusion/sram/cacti_sweep.csv, running cacti\n",
      "('/home/xuechenhao/ANT-Quantization/ant_simulator/bitfusion/sram/cacti/cacti', '-infile', '/home/xuechenhao/ANT-Quantization/ant_simulator/bitfusion/sram/sweep.cfg')\n",
      "No entry found in /home/xuechenhao/ANT-Quantization/ant_simulator/bitfusion/sram/cacti_sweep.csv, running cacti\n",
      "('/home/xuechenhao/ANT-Quantization/ant_simulator/bitfusion/sram/cacti/cacti', '-infile', '/home/xuechenhao/ANT-Quantization/ant_simulator/bitfusion/sram/sweep.cfg')\n",
      "No entry found in /home/xuechenhao/ANT-Quantization/ant_simulator/bitfusion/sram/cacti_sweep.csv, running cacti\n",
      "('/home/xuechenhao/ANT-Quantization/ant_simulator/bitfusion/sram/cacti/cacti', '-infile', '/home/xuechenhao/ANT-Quantization/ant_simulator/bitfusion/sram/sweep.cfg')\n"
     ]
    },
    {
     "name": "stderr",
     "output_type": "stream",
     "text": [
      "INFO:bitfusion.src.sweep.sweep.Simulator:Simulating Benchmark: llama13b\n",
      "INFO:bitfusion.src.sweep.sweep.Simulator:N x M = 64 x 64\n",
      "INFO:bitfusion.src.sweep.sweep.Simulator:Max Precision (bits): 4\n",
      "INFO:bitfusion.src.sweep.sweep.Simulator:Min Precision (bits): 4\n",
      "INFO:bitfusion.src.sweep.sweep.Simulator:Batch size: 64\n",
      "INFO:bitfusion.src.sweep.sweep.Simulator:Bandwidth (bits/cycle): 1024\n",
      "INFO:bitfusion.src.sweep.sweep.Simulator:Simulating Benchmark: llama30b\n",
      "INFO:bitfusion.src.sweep.sweep.Simulator:N x M = 64 x 64\n",
      "INFO:bitfusion.src.sweep.sweep.Simulator:Max Precision (bits): 4\n",
      "INFO:bitfusion.src.sweep.sweep.Simulator:Min Precision (bits): 4\n",
      "INFO:bitfusion.src.sweep.sweep.Simulator:Batch size: 64\n",
      "INFO:bitfusion.src.sweep.sweep.Simulator:Bandwidth (bits/cycle): 1024\n",
      "INFO:bitfusion.src.sweep.sweep.Simulator:Simulating Benchmark: llama65b\n",
      "INFO:bitfusion.src.sweep.sweep.Simulator:N x M = 64 x 64\n",
      "INFO:bitfusion.src.sweep.sweep.Simulator:Max Precision (bits): 4\n",
      "INFO:bitfusion.src.sweep.sweep.Simulator:Min Precision (bits): 4\n",
      "INFO:bitfusion.src.sweep.sweep.Simulator:Batch size: 64\n",
      "INFO:bitfusion.src.sweep.sweep.Simulator:Bandwidth (bits/cycle): 1024\n",
      "INFO:bitfusion.src.sweep.sweep.Simulator:Simulating Benchmark: opt6b\n",
      "INFO:bitfusion.src.sweep.sweep.Simulator:N x M = 64 x 64\n",
      "INFO:bitfusion.src.sweep.sweep.Simulator:Max Precision (bits): 4\n",
      "INFO:bitfusion.src.sweep.sweep.Simulator:Min Precision (bits): 4\n",
      "INFO:bitfusion.src.sweep.sweep.Simulator:Batch size: 64\n",
      "INFO:bitfusion.src.sweep.sweep.Simulator:Bandwidth (bits/cycle): 1024\n",
      "INFO:bitfusion.src.sweep.sweep.Simulator:Simulating Benchmark: opt13b\n",
      "INFO:bitfusion.src.sweep.sweep.Simulator:N x M = 64 x 64\n",
      "INFO:bitfusion.src.sweep.sweep.Simulator:Max Precision (bits): 4\n",
      "INFO:bitfusion.src.sweep.sweep.Simulator:Min Precision (bits): 4\n",
      "INFO:bitfusion.src.sweep.sweep.Simulator:Batch size: 64\n",
      "INFO:bitfusion.src.sweep.sweep.Simulator:Bandwidth (bits/cycle): 1024\n",
      "INFO:bitfusion.src.sweep.sweep.Simulator:Simulating Benchmark: opt30b\n",
      "INFO:bitfusion.src.sweep.sweep.Simulator:N x M = 64 x 64\n",
      "INFO:bitfusion.src.sweep.sweep.Simulator:Max Precision (bits): 4\n",
      "INFO:bitfusion.src.sweep.sweep.Simulator:Min Precision (bits): 4\n",
      "INFO:bitfusion.src.sweep.sweep.Simulator:Batch size: 64\n",
      "INFO:bitfusion.src.sweep.sweep.Simulator:Bandwidth (bits/cycle): 1024\n",
      "INFO:bitfusion.src.sweep.sweep.Simulator:Simulating Benchmark: opt66b\n",
      "INFO:bitfusion.src.sweep.sweep.Simulator:N x M = 64 x 64\n",
      "INFO:bitfusion.src.sweep.sweep.Simulator:Max Precision (bits): 4\n",
      "INFO:bitfusion.src.sweep.sweep.Simulator:Min Precision (bits): 4\n",
      "INFO:bitfusion.src.sweep.sweep.Simulator:Batch size: 64\n",
      "INFO:bitfusion.src.sweep.sweep.Simulator:Bandwidth (bits/cycle): 1024\n"
     ]
    }
   ],
   "source": [
    "# Oltron configuration file\n",
    "config_file = 'conf_oltron.ini'\n",
    "# Create simulator object\n",
    "bf_e_sim = Simulator(config_file, False)\n",
    "bf_e_sim_sweep_csv = os.path.join(results_dir, 'oltron.csv')\n",
    "bf_e_sim_sweep_df = pandas.DataFrame(columns=sim_sweep_columns)\n",
    "# TODO: use list bench to only call OPT and LLAMA\n",
    "bf_e_results = check_pandas_or_run(bf_e_sim, bf_e_sim_sweep_df, bf_e_sim_sweep_csv, \n",
    "                                   batch_size=batch_size, bench_type='oltron', list_bench=list_bench)\n",
    "bf_e_results = bf_e_results.groupby('Network',as_index=False).agg(np.sum)\n",
    "bf_e_cycles_oltron = []\n",
    "bf_e_energy_oltron = []\n",
    "for name in list_bench:\n",
    "    bf_e_stats = df_to_stats(bf_e_results.loc[bf_e_results['Network'] == name])\n",
    "    bf_e_cycles_oltron.append(bf_e_stats.total_cycles)\n",
    "    bf_e_energy_oltron.append(bf_e_stats.get_energy_breakdown(bf_e_sim.get_energy_cost(), act_cost_alpha=1+1/64))"
   ]
  },
  {
   "cell_type": "code",
   "execution_count": 16,
   "metadata": {},
   "outputs": [],
   "source": [
    "import numpy  as np\n",
    "from copy import deepcopy\n",
    "\n",
    "all_cycles = {\n",
    "    'ant': bf_e_cycles_ant,\n",
    "    'olaccel': bf_e_cycles_ola,\n",
    "    'oltron': bf_e_cycles_oltron, \n",
    "}\n",
    "\n",
    "def get_speedup(cycles, baseline='olaccel'):\n",
    "    speedup = {k: [] for k in cycles.keys()}\n",
    "    \n",
    "    for i in range(len(list_bench)):\n",
    "        baseline_cycle = cycles[baseline][i]\n",
    "        for k in cycles.keys():\n",
    "            speedup[k].append(cycles[k][i] / baseline_cycle)\n",
    "    return speedup\n",
    "\n",
    "all_speedup = get_speedup(all_cycles)\n",
    "all_speedup_geomean = {k: np.mean(v) for k, v in all_speedup.items()}"
   ]
  },
  {
   "cell_type": "code",
   "execution_count": 22,
   "metadata": {},
   "outputs": [],
   "source": [
    "all_energy = {\n",
    "    'ant': bf_e_energy_ant,\n",
    "    'olaccel': bf_e_energy_ola,\n",
    "    'oltron': bf_e_energy_oltron,\n",
    "}\n",
    "\n",
    "def get_relative_energy(energy, baseline='olaccel'):\n",
    "    relative_energy = {k: [] for k in energy.keys()}\n",
    "    relative_energy_breakdown = [{k: [] for k in energy.keys()} for _ in range(4)]\n",
    "\n",
    "    for model in range(len(list_bench)):\n",
    "        baseline_energy = energy[baseline][model]\n",
    "        total_baseline_energy = np.sum(baseline_energy)\n",
    "        for arch in energy:\n",
    "            target_energy = deepcopy(energy[arch][model])\n",
    "            for i in range(len(target_energy)):\n",
    "                target_energy[i] /= total_baseline_energy\n",
    "                relative_energy_breakdown[i][arch].append(target_energy[i])\n",
    "            relative_energy[arch].append(target_energy)\n",
    "    \n",
    "    # average breakdown\n",
    "    for i in range(4):\n",
    "        for arch in relative_energy_breakdown[i]:\n",
    "            relative_energy_breakdown[i][arch] = np.mean(relative_energy_breakdown[i][arch])\n",
    "\n",
    "    return relative_energy, relative_energy_breakdown\n",
    "\n",
    "relative_energy, relative_energy_geomean = get_relative_energy(all_energy)"
   ]
  },
  {
   "cell_type": "code",
   "execution_count": 23,
   "metadata": {},
   "outputs": [
    {
     "data": {
      "text/plain": [
       "{'ant': [0.27782270832170214,\n",
       "  0.2758620684556964,\n",
       "  0.2724511883493292,\n",
       "  0.2785243873767876,\n",
       "  0.2807016991903762,\n",
       "  0.27745663804850884,\n",
       "  0.2774566426282647,\n",
       "  0.27745664451293794],\n",
       " 'olaccel': [1.0, 1.0, 1.0, 1.0, 1.0, 1.0, 1.0, 1.0],\n",
       " 'oltron': [0.27782270832170214,\n",
       "  0.2758620684556964,\n",
       "  0.2724511883493292,\n",
       "  0.2785243873767876,\n",
       "  0.2807016991903762,\n",
       "  0.27745663804850884,\n",
       "  0.2774566426282647,\n",
       "  0.27745664451293794]}"
      ]
     },
     "execution_count": 23,
     "metadata": {},
     "output_type": "execute_result"
    }
   ],
   "source": [
    "all_speedup"
   ]
  },
  {
   "cell_type": "code",
   "execution_count": 24,
   "metadata": {},
   "outputs": [
    {
     "data": {
      "text/plain": [
       "{'ant': 0.2772164971104504, 'olaccel': 1.0, 'oltron': 0.2772164971104504}"
      ]
     },
     "execution_count": 24,
     "metadata": {},
     "output_type": "execute_result"
    }
   ],
   "source": [
    "all_speedup_geomean"
   ]
  },
  {
   "cell_type": "code",
   "execution_count": 25,
   "metadata": {},
   "outputs": [
    {
     "data": {
      "text/plain": [
       "{'ant': [[0.16040413053744842,\n",
       "   0.044699824872393476,\n",
       "   0.19043593680161822,\n",
       "   0.1166871056533474],\n",
       "  [0.15991073222252117,\n",
       "   0.054540914727922225,\n",
       "   0.1904980798578481,\n",
       "   0.11632818097927933],\n",
       "  [0.15821535945175913,\n",
       "   0.05364578123233511,\n",
       "   0.1884746067383375,\n",
       "   0.11509487067597411],\n",
       "  [0.16994652865154142,\n",
       "   0.057410556622194645,\n",
       "   0.20244684151596284,\n",
       "   0.12362879207857531],\n",
       "  [0.16331830047558846,\n",
       "   0.0467846802479295,\n",
       "   0.19398769997720394,\n",
       "   0.11880703892520654],\n",
       "  [0.16187572368959396,\n",
       "   0.05503186225948917,\n",
       "   0.19283677256025236,\n",
       "   0.11775762776010637],\n",
       "  [0.161933211174512,\n",
       "   0.05470050414856955,\n",
       "   0.1929010327510276,\n",
       "   0.1177994480298286],\n",
       "  [0.16946275726105733,\n",
       "   0.05703994993758301,\n",
       "   0.20186806079756056,\n",
       "   0.12327686929556524]],\n",
       " 'olaccel': [[0.5773614817393183,\n",
       "   0.09930646189256873,\n",
       "   0.20520548743586398,\n",
       "   0.11812656893224883],\n",
       "  [0.5796764053779395,\n",
       "   0.09915201129321878,\n",
       "   0.2025713675238646,\n",
       "   0.11860021580497697],\n",
       "  [0.5807108436939533,\n",
       "   0.09874395746884142,\n",
       "   0.2017333407618322,\n",
       "   0.11881185807537314],\n",
       "  [0.610167498265198,\n",
       "   0.058845932761040734,\n",
       "   0.20614796138586544,\n",
       "   0.12483860758789582],\n",
       "  [0.5818215598503502,\n",
       "   0.09361137306720259,\n",
       "   0.20552797878663448,\n",
       "   0.11903908829581264],\n",
       "  [0.5834271071261686,\n",
       "   0.09342335862380495,\n",
       "   0.20378193817140328,\n",
       "   0.1193675960786232],\n",
       "  [0.5836342919764567,\n",
       "   0.0931056348567943,\n",
       "   0.2038500854248413,\n",
       "   0.11940998774190785],\n",
       "  [0.610772027314542,\n",
       "   0.05869012320947888,\n",
       "   0.20557555399020294,\n",
       "   0.12496229548577595]],\n",
       " 'oltron': [[0.16040413053744842,\n",
       "   0.044699824872393476,\n",
       "   0.19193845038609286,\n",
       "   0.2586046612292166],\n",
       "  [0.15991073222252117,\n",
       "   0.054540914727922225,\n",
       "   0.1919959717772301,\n",
       "   0.2578092044227923],\n",
       "  [0.15821535945175913,\n",
       "   0.05364578123233511,\n",
       "   0.18995661802280794,\n",
       "   0.2550759137355688],\n",
       "  [0.16994652865154142,\n",
       "   0.057410556622194645,\n",
       "   0.20403873926046337,\n",
       "   0.27398898774373637],\n",
       "  [0.16331830047558846,\n",
       "   0.0467846802479295,\n",
       "   0.19551751073831689,\n",
       "   0.2633029063533707],\n",
       "  [0.16187572368959396,\n",
       "   0.05503186225948917,\n",
       "   0.19435307065396545,\n",
       "   0.2609771774274977],\n",
       "  [0.161933211174512,\n",
       "   0.05470050414856955,\n",
       "   0.19441786934236743,\n",
       "   0.2610698606295769],\n",
       "  [0.16946275726105733,\n",
       "   0.05703994993758301,\n",
       "   0.20345542703254926,\n",
       "   0.27320904836051707]]}"
      ]
     },
     "execution_count": 25,
     "metadata": {},
     "output_type": "execute_result"
    }
   ],
   "source": [
    "relative_energy"
   ]
  },
  {
   "cell_type": "code",
   "execution_count": 26,
   "metadata": {},
   "outputs": [
    {
     "data": {
      "text/plain": [
       "[{'ant': 0.16313334293300272,\n",
       "  'olaccel': 0.5884464019179909,\n",
       "  'oltron': 0.16313334293300272},\n",
       " {'ant': 0.052981759256052086,\n",
       "  'olaccel': 0.0868598566466188,\n",
       "  'oltron': 0.052981759256052086},\n",
       " {'ant': 0.1941811288749764,\n",
       "  'olaccel': 0.20429921418506353,\n",
       "  'oltron': 0.19570920715172416},\n",
       " {'ant': 0.11867249167473537,\n",
       "  'olaccel': 0.1203945272503268,\n",
       "  'oltron': 0.2630047199877846}]"
      ]
     },
     "execution_count": 26,
     "metadata": {},
     "output_type": "execute_result"
    }
   ],
   "source": [
    "relative_energy_geomean"
   ]
  },
  {
   "cell_type": "code",
   "execution_count": null,
   "metadata": {},
   "outputs": [],
   "source": [
    "# print the results to results/oltron_res.csv\n",
    "\n",
    "with open('./results/oltron_res.csv')"
   ]
  }
 ],
 "metadata": {
  "kernelspec": {
   "display_name": "ant_sim",
   "language": "python",
   "name": "python3"
  },
  "language_info": {
   "codemirror_mode": {
    "name": "ipython",
    "version": 3
   },
   "file_extension": ".py",
   "mimetype": "text/x-python",
   "name": "python",
   "nbconvert_exporter": "python",
   "pygments_lexer": "ipython3",
   "version": "3.8.18"
  }
 },
 "nbformat": 4,
 "nbformat_minor": 2
}
