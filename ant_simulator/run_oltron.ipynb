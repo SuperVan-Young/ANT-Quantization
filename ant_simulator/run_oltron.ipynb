{
 "cells": [
  {
   "cell_type": "code",
   "execution_count": 1,
   "metadata": {},
   "outputs": [],
   "source": [
    "from re import I\n",
    "import pandas\n",
    "import configparser\n",
    "import os\n",
    "import numpy as np\n",
    "import bitfusion.src.benchmarks.benchmarks as benchmarks\n",
    "from bitfusion.src.simulator.stats import Stats\n",
    "from bitfusion.src.simulator.simulator import Simulator\n",
    "from bitfusion.src.sweep.sweep import SimulatorSweep, check_pandas_or_run\n",
    "from bitfusion.src.utils.utils import *\n",
    "from bitfusion.src.optimizer.optimizer import optimize_for_order, get_stats_fast\n",
    "\n",
    "def df_to_stats(df):\n",
    "    stats = Stats()\n",
    "    stats.total_cycles = float(df['Cycles'].iloc[0])\n",
    "    stats.mem_stall_cycles = float(df['Memory wait cycles'].iloc[0])\n",
    "    stats.reads['act'] = float(df['IBUF Read'].iloc[0])\n",
    "    stats.reads['out'] = float(df['OBUF Read'].iloc[0])\n",
    "    stats.reads['wgt'] = float(df['WBUF Read'].iloc[0])\n",
    "    stats.reads['dram'] = float(df['DRAM Read'].iloc[0])\n",
    "    stats.writes['act'] = float(df['IBUF Write'].iloc[0])\n",
    "    stats.writes['out'] = float(df['OBUF Write'].iloc[0])\n",
    "    stats.writes['wgt'] = float(df['WBUF Write'].iloc[0])\n",
    "    stats.writes['dram'] = float(df['DRAM Write'].iloc[0])\n",
    "    return stats\n",
    "\n",
    "sim_sweep_columns = ['N', 'M',\n",
    "        'Max Precision (bits)', 'Min Precision (bits)',\n",
    "        'Network', 'Layer',\n",
    "        'Cycles', 'Memory wait cycles',\n",
    "        'WBUF Read', 'WBUF Write',\n",
    "        'OBUF Read', 'OBUF Write',\n",
    "        'IBUF Read', 'IBUF Write',\n",
    "        'DRAM Read', 'DRAM Write',\n",
    "        'Bandwidth (bits/cycle)',\n",
    "        'WBUF Size (bits)', 'OBUF Size (bits)', 'IBUF Size (bits)',\n",
    "        'Batch size']\n",
    "\n",
    "batch_size = 64\n",
    "\n",
    "list_bench = [\n",
    "    'llama7b',\n",
    "    'llama13b',\n",
    "    'llama30b',\n",
    "    'llama65b',\n",
    "    'opt6b',\n",
    "    'opt13b',\n",
    "    'opt30b',\n",
    "    'opt66b',\n",
    "]\n",
    "\n",
    "results_dir = './results'\n",
    "if not os.path.exists(results_dir):\n",
    "    os.makedirs(results_dir)"
   ]
  },
  {
   "cell_type": "code",
   "execution_count": 2,
   "metadata": {},
   "outputs": [
    {
     "name": "stderr",
     "output_type": "stream",
     "text": [
      "INFO:bitfusion.src.sweep.sweep.Simulator:Simulating Benchmark: llama7b\n",
      "INFO:bitfusion.src.sweep.sweep.Simulator:N x M = 32 x 32\n",
      "INFO:bitfusion.src.sweep.sweep.Simulator:Max Precision (bits): 8\n",
      "INFO:bitfusion.src.sweep.sweep.Simulator:Min Precision (bits): 4\n",
      "INFO:bitfusion.src.sweep.sweep.Simulator:Batch size: 64\n",
      "INFO:bitfusion.src.sweep.sweep.Simulator:Bandwidth (bits/cycle): 1024\n"
     ]
    },
    {
     "name": "stdout",
     "output_type": "stream",
     "text": [
      "No entry found in /home/xuechenhao/ANT-Quantization/ant_simulator/bitfusion/sram/cacti_sweep.csv, running cacti\n",
      "('/home/xuechenhao/ANT-Quantization/ant_simulator/bitfusion/sram/cacti/cacti', '-infile', '/home/xuechenhao/ANT-Quantization/ant_simulator/bitfusion/sram/sweep.cfg')\n",
      "No entry found in /home/xuechenhao/ANT-Quantization/ant_simulator/bitfusion/sram/cacti_sweep.csv, running cacti\n",
      "('/home/xuechenhao/ANT-Quantization/ant_simulator/bitfusion/sram/cacti/cacti', '-infile', '/home/xuechenhao/ANT-Quantization/ant_simulator/bitfusion/sram/sweep.cfg')\n",
      "No entry found in /home/xuechenhao/ANT-Quantization/ant_simulator/bitfusion/sram/cacti_sweep.csv, running cacti\n",
      "('/home/xuechenhao/ANT-Quantization/ant_simulator/bitfusion/sram/cacti/cacti', '-infile', '/home/xuechenhao/ANT-Quantization/ant_simulator/bitfusion/sram/sweep.cfg')\n"
     ]
    },
    {
     "name": "stderr",
     "output_type": "stream",
     "text": [
      "INFO:bitfusion.src.sweep.sweep.Simulator:Simulating Benchmark: llama13b\n",
      "INFO:bitfusion.src.sweep.sweep.Simulator:N x M = 32 x 32\n",
      "INFO:bitfusion.src.sweep.sweep.Simulator:Max Precision (bits): 8\n",
      "INFO:bitfusion.src.sweep.sweep.Simulator:Min Precision (bits): 4\n",
      "INFO:bitfusion.src.sweep.sweep.Simulator:Batch size: 64\n",
      "INFO:bitfusion.src.sweep.sweep.Simulator:Bandwidth (bits/cycle): 1024\n",
      "INFO:bitfusion.src.sweep.sweep.Simulator:Simulating Benchmark: llama30b\n",
      "INFO:bitfusion.src.sweep.sweep.Simulator:N x M = 32 x 32\n",
      "INFO:bitfusion.src.sweep.sweep.Simulator:Max Precision (bits): 8\n",
      "INFO:bitfusion.src.sweep.sweep.Simulator:Min Precision (bits): 4\n",
      "INFO:bitfusion.src.sweep.sweep.Simulator:Batch size: 64\n",
      "INFO:bitfusion.src.sweep.sweep.Simulator:Bandwidth (bits/cycle): 1024\n",
      "INFO:bitfusion.src.sweep.sweep.Simulator:Simulating Benchmark: llama65b\n",
      "INFO:bitfusion.src.sweep.sweep.Simulator:N x M = 32 x 32\n",
      "INFO:bitfusion.src.sweep.sweep.Simulator:Max Precision (bits): 8\n",
      "INFO:bitfusion.src.sweep.sweep.Simulator:Min Precision (bits): 4\n",
      "INFO:bitfusion.src.sweep.sweep.Simulator:Batch size: 64\n",
      "INFO:bitfusion.src.sweep.sweep.Simulator:Bandwidth (bits/cycle): 1024\n",
      "INFO:bitfusion.src.sweep.sweep.Simulator:Simulating Benchmark: opt6b\n",
      "INFO:bitfusion.src.sweep.sweep.Simulator:N x M = 32 x 32\n",
      "INFO:bitfusion.src.sweep.sweep.Simulator:Max Precision (bits): 8\n",
      "INFO:bitfusion.src.sweep.sweep.Simulator:Min Precision (bits): 4\n",
      "INFO:bitfusion.src.sweep.sweep.Simulator:Batch size: 64\n",
      "INFO:bitfusion.src.sweep.sweep.Simulator:Bandwidth (bits/cycle): 1024\n",
      "INFO:bitfusion.src.sweep.sweep.Simulator:Simulating Benchmark: opt13b\n",
      "INFO:bitfusion.src.sweep.sweep.Simulator:N x M = 32 x 32\n",
      "INFO:bitfusion.src.sweep.sweep.Simulator:Max Precision (bits): 8\n",
      "INFO:bitfusion.src.sweep.sweep.Simulator:Min Precision (bits): 4\n",
      "INFO:bitfusion.src.sweep.sweep.Simulator:Batch size: 64\n",
      "INFO:bitfusion.src.sweep.sweep.Simulator:Bandwidth (bits/cycle): 1024\n",
      "INFO:bitfusion.src.sweep.sweep.Simulator:Simulating Benchmark: opt30b\n",
      "INFO:bitfusion.src.sweep.sweep.Simulator:N x M = 32 x 32\n",
      "INFO:bitfusion.src.sweep.sweep.Simulator:Max Precision (bits): 8\n",
      "INFO:bitfusion.src.sweep.sweep.Simulator:Min Precision (bits): 4\n",
      "INFO:bitfusion.src.sweep.sweep.Simulator:Batch size: 64\n",
      "INFO:bitfusion.src.sweep.sweep.Simulator:Bandwidth (bits/cycle): 1024\n",
      "INFO:bitfusion.src.sweep.sweep.Simulator:Simulating Benchmark: opt66b\n",
      "INFO:bitfusion.src.sweep.sweep.Simulator:N x M = 32 x 32\n",
      "INFO:bitfusion.src.sweep.sweep.Simulator:Max Precision (bits): 8\n",
      "INFO:bitfusion.src.sweep.sweep.Simulator:Min Precision (bits): 4\n",
      "INFO:bitfusion.src.sweep.sweep.Simulator:Batch size: 64\n",
      "INFO:bitfusion.src.sweep.sweep.Simulator:Bandwidth (bits/cycle): 1024\n"
     ]
    }
   ],
   "source": [
    "# ANT configuration file\n",
    "config_file = 'conf_ant.ini'\n",
    "# Create simulator object\n",
    "bf_e_sim = Simulator(config_file, False)\n",
    "bf_e_sim_sweep_csv = os.path.join(results_dir, 'ant_os.csv')\n",
    "bf_e_sim_sweep_df = pandas.DataFrame(columns=sim_sweep_columns)\n",
    "# TODO: use list bench to only call OPT and LLAMA\n",
    "bf_e_results = check_pandas_or_run(bf_e_sim, bf_e_sim_sweep_df, bf_e_sim_sweep_csv, \n",
    "                                   batch_size=batch_size, bench_type='ant', list_bench=list_bench)\n",
    "bf_e_results = bf_e_results.groupby('Network',as_index=False).agg(np.sum)\n",
    "bf_e_cycles_ant = []\n",
    "bf_e_energy_ant = []\n",
    "for name in list_bench:\n",
    "    bf_e_stats = df_to_stats(bf_e_results.loc[bf_e_results['Network'] == name])\n",
    "    bf_e_cycles_ant.append(bf_e_stats.total_cycles)\n",
    "    bf_e_energy_ant.append(bf_e_stats.get_energy_breakdown(bf_e_sim.get_energy_cost()))"
   ]
  },
  {
   "cell_type": "code",
   "execution_count": 3,
   "metadata": {},
   "outputs": [
    {
     "name": "stderr",
     "output_type": "stream",
     "text": [
      "INFO:bitfusion.src.sweep.sweep.Simulator:Simulating Benchmark: llama7b\n",
      "INFO:bitfusion.src.sweep.sweep.Simulator:N x M = 16 x 18\n",
      "INFO:bitfusion.src.sweep.sweep.Simulator:Max Precision (bits): 8\n",
      "INFO:bitfusion.src.sweep.sweep.Simulator:Min Precision (bits): 4\n",
      "INFO:bitfusion.src.sweep.sweep.Simulator:Batch size: 64\n",
      "INFO:bitfusion.src.sweep.sweep.Simulator:Bandwidth (bits/cycle): 1024\n"
     ]
    },
    {
     "name": "stdout",
     "output_type": "stream",
     "text": [
      "No entry found in /home/xuechenhao/ANT-Quantization/ant_simulator/bitfusion/sram/cacti_sweep.csv, running cacti\n",
      "('/home/xuechenhao/ANT-Quantization/ant_simulator/bitfusion/sram/cacti/cacti', '-infile', '/home/xuechenhao/ANT-Quantization/ant_simulator/bitfusion/sram/sweep.cfg')\n",
      "No entry found in /home/xuechenhao/ANT-Quantization/ant_simulator/bitfusion/sram/cacti_sweep.csv, running cacti\n",
      "('/home/xuechenhao/ANT-Quantization/ant_simulator/bitfusion/sram/cacti/cacti', '-infile', '/home/xuechenhao/ANT-Quantization/ant_simulator/bitfusion/sram/sweep.cfg')\n",
      "No entry found in /home/xuechenhao/ANT-Quantization/ant_simulator/bitfusion/sram/cacti_sweep.csv, running cacti\n",
      "('/home/xuechenhao/ANT-Quantization/ant_simulator/bitfusion/sram/cacti/cacti', '-infile', '/home/xuechenhao/ANT-Quantization/ant_simulator/bitfusion/sram/sweep.cfg')\n"
     ]
    },
    {
     "name": "stderr",
     "output_type": "stream",
     "text": [
      "INFO:bitfusion.src.sweep.sweep.Simulator:Simulating Benchmark: llama13b\n",
      "INFO:bitfusion.src.sweep.sweep.Simulator:N x M = 16 x 18\n",
      "INFO:bitfusion.src.sweep.sweep.Simulator:Max Precision (bits): 8\n",
      "INFO:bitfusion.src.sweep.sweep.Simulator:Min Precision (bits): 4\n",
      "INFO:bitfusion.src.sweep.sweep.Simulator:Batch size: 64\n",
      "INFO:bitfusion.src.sweep.sweep.Simulator:Bandwidth (bits/cycle): 1024\n",
      "INFO:bitfusion.src.sweep.sweep.Simulator:Simulating Benchmark: llama30b\n",
      "INFO:bitfusion.src.sweep.sweep.Simulator:N x M = 16 x 18\n",
      "INFO:bitfusion.src.sweep.sweep.Simulator:Max Precision (bits): 8\n",
      "INFO:bitfusion.src.sweep.sweep.Simulator:Min Precision (bits): 4\n",
      "INFO:bitfusion.src.sweep.sweep.Simulator:Batch size: 64\n",
      "INFO:bitfusion.src.sweep.sweep.Simulator:Bandwidth (bits/cycle): 1024\n",
      "INFO:bitfusion.src.sweep.sweep.Simulator:Simulating Benchmark: llama65b\n",
      "INFO:bitfusion.src.sweep.sweep.Simulator:N x M = 16 x 18\n",
      "INFO:bitfusion.src.sweep.sweep.Simulator:Max Precision (bits): 8\n",
      "INFO:bitfusion.src.sweep.sweep.Simulator:Min Precision (bits): 4\n",
      "INFO:bitfusion.src.sweep.sweep.Simulator:Batch size: 64\n",
      "INFO:bitfusion.src.sweep.sweep.Simulator:Bandwidth (bits/cycle): 1024\n",
      "INFO:bitfusion.src.sweep.sweep.Simulator:Simulating Benchmark: opt6b\n",
      "INFO:bitfusion.src.sweep.sweep.Simulator:N x M = 16 x 18\n",
      "INFO:bitfusion.src.sweep.sweep.Simulator:Max Precision (bits): 8\n",
      "INFO:bitfusion.src.sweep.sweep.Simulator:Min Precision (bits): 4\n",
      "INFO:bitfusion.src.sweep.sweep.Simulator:Batch size: 64\n",
      "INFO:bitfusion.src.sweep.sweep.Simulator:Bandwidth (bits/cycle): 1024\n",
      "INFO:bitfusion.src.sweep.sweep.Simulator:Simulating Benchmark: opt13b\n",
      "INFO:bitfusion.src.sweep.sweep.Simulator:N x M = 16 x 18\n",
      "INFO:bitfusion.src.sweep.sweep.Simulator:Max Precision (bits): 8\n",
      "INFO:bitfusion.src.sweep.sweep.Simulator:Min Precision (bits): 4\n",
      "INFO:bitfusion.src.sweep.sweep.Simulator:Batch size: 64\n",
      "INFO:bitfusion.src.sweep.sweep.Simulator:Bandwidth (bits/cycle): 1024\n",
      "INFO:bitfusion.src.sweep.sweep.Simulator:Simulating Benchmark: opt30b\n",
      "INFO:bitfusion.src.sweep.sweep.Simulator:N x M = 16 x 18\n",
      "INFO:bitfusion.src.sweep.sweep.Simulator:Max Precision (bits): 8\n",
      "INFO:bitfusion.src.sweep.sweep.Simulator:Min Precision (bits): 4\n",
      "INFO:bitfusion.src.sweep.sweep.Simulator:Batch size: 64\n",
      "INFO:bitfusion.src.sweep.sweep.Simulator:Bandwidth (bits/cycle): 1024\n",
      "INFO:bitfusion.src.sweep.sweep.Simulator:Simulating Benchmark: opt66b\n",
      "INFO:bitfusion.src.sweep.sweep.Simulator:N x M = 16 x 18\n",
      "INFO:bitfusion.src.sweep.sweep.Simulator:Max Precision (bits): 8\n",
      "INFO:bitfusion.src.sweep.sweep.Simulator:Min Precision (bits): 4\n",
      "INFO:bitfusion.src.sweep.sweep.Simulator:Batch size: 64\n",
      "INFO:bitfusion.src.sweep.sweep.Simulator:Bandwidth (bits/cycle): 1024\n"
     ]
    }
   ],
   "source": [
    "# OLAceel configuration file\n",
    "config_file = 'conf_olaccel.ini'\n",
    "# Create simulator object\n",
    "bf_e_sim = Simulator(config_file, False)\n",
    "bf_e_sim_sweep_csv = os.path.join(results_dir, 'olaceel.csv')\n",
    "bf_e_sim_sweep_df = pandas.DataFrame(columns=sim_sweep_columns)\n",
    "bf_e_results = check_pandas_or_run(bf_e_sim, bf_e_sim_sweep_df, bf_e_sim_sweep_csv, \n",
    "                                    batch_size=batch_size, bench_type='ola', list_bench=list_bench)\n",
    "bf_e_results = bf_e_results.groupby('Network',as_index=False).agg(np.sum)\n",
    "# area_stats = bf_e_sim.get_area()\n",
    "bf_e_cycles_ola = []\n",
    "bf_e_energy_ola = []\n",
    "for name in list_bench:\n",
    "    bf_e_stats = df_to_stats(bf_e_results.loc[bf_e_results['Network'] == name])\n",
    "    bf_e_cycles_ola.append(bf_e_stats.total_cycles)\n",
    "    bf_e_energy_ola.append(bf_e_stats.get_energy_breakdown(bf_e_sim.get_energy_cost()))"
   ]
  },
  {
   "cell_type": "code",
   "execution_count": 4,
   "metadata": {},
   "outputs": [
    {
     "name": "stderr",
     "output_type": "stream",
     "text": [
      "INFO:bitfusion.src.sweep.sweep.Simulator:Simulating Benchmark: llama7b\n",
      "INFO:bitfusion.src.sweep.sweep.Simulator:N x M = 64 x 64\n",
      "INFO:bitfusion.src.sweep.sweep.Simulator:Max Precision (bits): 4\n",
      "INFO:bitfusion.src.sweep.sweep.Simulator:Min Precision (bits): 4\n",
      "INFO:bitfusion.src.sweep.sweep.Simulator:Batch size: 64\n",
      "INFO:bitfusion.src.sweep.sweep.Simulator:Bandwidth (bits/cycle): 1024\n"
     ]
    },
    {
     "name": "stdout",
     "output_type": "stream",
     "text": [
      "No entry found in /home/xuechenhao/ANT-Quantization/ant_simulator/bitfusion/sram/cacti_sweep.csv, running cacti\n",
      "('/home/xuechenhao/ANT-Quantization/ant_simulator/bitfusion/sram/cacti/cacti', '-infile', '/home/xuechenhao/ANT-Quantization/ant_simulator/bitfusion/sram/sweep.cfg')\n",
      "No entry found in /home/xuechenhao/ANT-Quantization/ant_simulator/bitfusion/sram/cacti_sweep.csv, running cacti\n",
      "('/home/xuechenhao/ANT-Quantization/ant_simulator/bitfusion/sram/cacti/cacti', '-infile', '/home/xuechenhao/ANT-Quantization/ant_simulator/bitfusion/sram/sweep.cfg')\n",
      "No entry found in /home/xuechenhao/ANT-Quantization/ant_simulator/bitfusion/sram/cacti_sweep.csv, running cacti\n",
      "('/home/xuechenhao/ANT-Quantization/ant_simulator/bitfusion/sram/cacti/cacti', '-infile', '/home/xuechenhao/ANT-Quantization/ant_simulator/bitfusion/sram/sweep.cfg')\n"
     ]
    },
    {
     "name": "stderr",
     "output_type": "stream",
     "text": [
      "INFO:bitfusion.src.sweep.sweep.Simulator:Simulating Benchmark: llama13b\n",
      "INFO:bitfusion.src.sweep.sweep.Simulator:N x M = 64 x 64\n",
      "INFO:bitfusion.src.sweep.sweep.Simulator:Max Precision (bits): 4\n",
      "INFO:bitfusion.src.sweep.sweep.Simulator:Min Precision (bits): 4\n",
      "INFO:bitfusion.src.sweep.sweep.Simulator:Batch size: 64\n",
      "INFO:bitfusion.src.sweep.sweep.Simulator:Bandwidth (bits/cycle): 1024\n",
      "INFO:bitfusion.src.sweep.sweep.Simulator:Simulating Benchmark: llama30b\n",
      "INFO:bitfusion.src.sweep.sweep.Simulator:N x M = 64 x 64\n",
      "INFO:bitfusion.src.sweep.sweep.Simulator:Max Precision (bits): 4\n",
      "INFO:bitfusion.src.sweep.sweep.Simulator:Min Precision (bits): 4\n",
      "INFO:bitfusion.src.sweep.sweep.Simulator:Batch size: 64\n",
      "INFO:bitfusion.src.sweep.sweep.Simulator:Bandwidth (bits/cycle): 1024\n",
      "INFO:bitfusion.src.sweep.sweep.Simulator:Simulating Benchmark: llama65b\n",
      "INFO:bitfusion.src.sweep.sweep.Simulator:N x M = 64 x 64\n",
      "INFO:bitfusion.src.sweep.sweep.Simulator:Max Precision (bits): 4\n",
      "INFO:bitfusion.src.sweep.sweep.Simulator:Min Precision (bits): 4\n",
      "INFO:bitfusion.src.sweep.sweep.Simulator:Batch size: 64\n",
      "INFO:bitfusion.src.sweep.sweep.Simulator:Bandwidth (bits/cycle): 1024\n",
      "INFO:bitfusion.src.sweep.sweep.Simulator:Simulating Benchmark: opt6b\n",
      "INFO:bitfusion.src.sweep.sweep.Simulator:N x M = 64 x 64\n",
      "INFO:bitfusion.src.sweep.sweep.Simulator:Max Precision (bits): 4\n",
      "INFO:bitfusion.src.sweep.sweep.Simulator:Min Precision (bits): 4\n",
      "INFO:bitfusion.src.sweep.sweep.Simulator:Batch size: 64\n",
      "INFO:bitfusion.src.sweep.sweep.Simulator:Bandwidth (bits/cycle): 1024\n",
      "INFO:bitfusion.src.sweep.sweep.Simulator:Simulating Benchmark: opt13b\n",
      "INFO:bitfusion.src.sweep.sweep.Simulator:N x M = 64 x 64\n",
      "INFO:bitfusion.src.sweep.sweep.Simulator:Max Precision (bits): 4\n",
      "INFO:bitfusion.src.sweep.sweep.Simulator:Min Precision (bits): 4\n",
      "INFO:bitfusion.src.sweep.sweep.Simulator:Batch size: 64\n",
      "INFO:bitfusion.src.sweep.sweep.Simulator:Bandwidth (bits/cycle): 1024\n",
      "INFO:bitfusion.src.sweep.sweep.Simulator:Simulating Benchmark: opt30b\n",
      "INFO:bitfusion.src.sweep.sweep.Simulator:N x M = 64 x 64\n",
      "INFO:bitfusion.src.sweep.sweep.Simulator:Max Precision (bits): 4\n",
      "INFO:bitfusion.src.sweep.sweep.Simulator:Min Precision (bits): 4\n",
      "INFO:bitfusion.src.sweep.sweep.Simulator:Batch size: 64\n",
      "INFO:bitfusion.src.sweep.sweep.Simulator:Bandwidth (bits/cycle): 1024\n",
      "INFO:bitfusion.src.sweep.sweep.Simulator:Simulating Benchmark: opt66b\n",
      "INFO:bitfusion.src.sweep.sweep.Simulator:N x M = 64 x 64\n",
      "INFO:bitfusion.src.sweep.sweep.Simulator:Max Precision (bits): 4\n",
      "INFO:bitfusion.src.sweep.sweep.Simulator:Min Precision (bits): 4\n",
      "INFO:bitfusion.src.sweep.sweep.Simulator:Batch size: 64\n",
      "INFO:bitfusion.src.sweep.sweep.Simulator:Bandwidth (bits/cycle): 1024\n"
     ]
    }
   ],
   "source": [
    "# Oltron configuration file\n",
    "config_file = 'conf_oltron.ini'\n",
    "# Create simulator object\n",
    "bf_e_sim = Simulator(config_file, False)\n",
    "bf_e_sim_sweep_csv = os.path.join(results_dir, 'oltron.csv')\n",
    "bf_e_sim_sweep_df = pandas.DataFrame(columns=sim_sweep_columns)\n",
    "# TODO: use list bench to only call OPT and LLAMA\n",
    "bf_e_results = check_pandas_or_run(bf_e_sim, bf_e_sim_sweep_df, bf_e_sim_sweep_csv, \n",
    "                                   batch_size=batch_size, bench_type='oltron', list_bench=list_bench)\n",
    "bf_e_results = bf_e_results.groupby('Network',as_index=False).agg(np.sum)\n",
    "bf_e_cycles_oltron = []\n",
    "bf_e_energy_oltron = []\n",
    "for name in list_bench:\n",
    "    bf_e_stats = df_to_stats(bf_e_results.loc[bf_e_results['Network'] == name])\n",
    "    bf_e_cycles_oltron.append(bf_e_stats.total_cycles)\n",
    "    bf_e_energy_oltron.append(bf_e_stats.get_energy_breakdown(bf_e_sim.get_energy_cost()))"
   ]
  },
  {
   "cell_type": "code",
   "execution_count": 5,
   "metadata": {},
   "outputs": [
    {
     "data": {
      "text/plain": [
       "[6476005552.0,\n",
       " 10150215808.0,\n",
       " 17121149056.0,\n",
       " 25904021632.0,\n",
       " 6442451120.0,\n",
       " 10066329728.0,\n",
       " 19730006144.0,\n",
       " 32614908032.0]"
      ]
     },
     "execution_count": 5,
     "metadata": {},
     "output_type": "execute_result"
    }
   ],
   "source": [
    "bf_e_cycles_ant"
   ]
  },
  {
   "cell_type": "code",
   "execution_count": 6,
   "metadata": {},
   "outputs": [
    {
     "data": {
      "text/plain": [
       "[23309849620.0,\n",
       " 36794532372.0,\n",
       " 62841161236.0,\n",
       " 93004500884.0,\n",
       " 22951236628.0,\n",
       " 36280731284.0,\n",
       " 71110231700.0,\n",
       " 117549565588.0]"
      ]
     },
     "execution_count": 6,
     "metadata": {},
     "output_type": "execute_result"
    }
   ],
   "source": [
    "bf_e_cycles_ola"
   ]
  },
  {
   "cell_type": "code",
   "execution_count": 7,
   "metadata": {},
   "outputs": [
    {
     "data": {
      "text/plain": [
       "[6476005552.0,\n",
       " 10150215808.0,\n",
       " 17121149056.0,\n",
       " 25904021632.0,\n",
       " 6442451120.0,\n",
       " 10066329728.0,\n",
       " 19730006144.0,\n",
       " 32614908032.0]"
      ]
     },
     "execution_count": 7,
     "metadata": {},
     "output_type": "execute_result"
    }
   ],
   "source": [
    "bf_e_cycles_oltron"
   ]
  },
  {
   "cell_type": "code",
   "execution_count": 8,
   "metadata": {},
   "outputs": [
    {
     "data": {
      "text/plain": [
       "[[6276738861.16496, 1749139046.006784, 7451906887.185859, 4566057546.007118],\n",
       " [9837893667.587841, 3355420315.877376, 11719662761.054047, 7156644579.836952],\n",
       " [16594331299.54688, 5626608375.3000965, 19768055874.00262, 12071662457.38591],\n",
       " [25106954886.38336, 8481516313.1166725, 29908370339.55492, 18264230108.16059],\n",
       " [6244216899.0376005,\n",
       "  1788738250.211328,\n",
       "  7416812879.3634405,\n",
       "  4542399216.873308],\n",
       " [9756588762.26944, 3316885550.53056, 11622675996.318106, 7097498757.002428],\n",
       " [19122913854.94912,\n",
       "  6459657170.190336,\n",
       "  22779946158.501392,\n",
       "  13911097547.539612],\n",
       " [31611347311.855362,\n",
       "  10640153018.105854,\n",
       "  37656187614.20243,\n",
       "  22995895934.922523]]"
      ]
     },
     "execution_count": 8,
     "metadata": {},
     "output_type": "execute_result"
    }
   ],
   "source": [
    "bf_e_energy_ant"
   ]
  },
  {
   "cell_type": "code",
   "execution_count": 9,
   "metadata": {},
   "outputs": [
    {
     "data": {
      "text/plain": [
       "[[22592605547.1926, 3885939385.9584, 8029850934.619668, 4622384867.9509325],\n",
       " [35662364610.91356,\n",
       "  6099946704.470016,\n",
       "  12462425417.604137,\n",
       "  7296422796.8059435],\n",
       " [60907538704.76828,\n",
       "  10356705883.324417,\n",
       "  21158690928.404724,\n",
       "  12461516644.461063],\n",
       " [90142752391.79932, 8693570800.18944, 30455153203.200653, 18442961522.414055],\n",
       " [22245027076.95644, 3579082784.636928, 7858037186.447279, 4551271257.527235],\n",
       " [35164373182.39132, 5630821411.06176, 12282364041.992601, 7194534918.114342],\n",
       " [68922169870.591, 10994971456.831488, 24072934728.02341, 14101288379.615902],\n",
       " [113932565454.85724, 10947974047.727615, 38347778243.6905, 23310292994.95131]]"
      ]
     },
     "execution_count": 9,
     "metadata": {},
     "output_type": "execute_result"
    }
   ],
   "source": [
    "bf_e_energy_ola"
   ]
  },
  {
   "cell_type": "code",
   "execution_count": 10,
   "metadata": {},
   "outputs": [
    {
     "data": {
      "text/plain": [
       "[[6276738861.16496, 1749139046.006784, 7451906887.185859, 10119402295.79604],\n",
       " [9837893667.587841,\n",
       "  3355420315.877376,\n",
       "  11719662761.054047,\n",
       "  15860721193.543793],\n",
       " [16594331299.54688,\n",
       "  5626608375.3000965,\n",
       "  19768055874.00262,\n",
       "  26753497471.611042],\n",
       " [25106954886.38336, 8481516313.1166725, 29908370339.55492, 40477609099.93404],\n",
       " [6244216899.0376005,\n",
       "  1788738250.211328,\n",
       "  7416812879.3634405,\n",
       "  10066970159.680191],\n",
       " [9756588762.26944, 3316885550.53056, 11622675996.318106, 15729640853.254175],\n",
       " [19122913854.94912,\n",
       "  6459657170.190336,\n",
       "  22779946158.501392,\n",
       "  30830096054.618156],\n",
       " [31611347311.855362,\n",
       "  10640153018.105854,\n",
       "  37656187614.20243,\n",
       "  50964036323.10347]]"
      ]
     },
     "execution_count": 10,
     "metadata": {},
     "output_type": "execute_result"
    }
   ],
   "source": [
    "bf_e_energy_oltron"
   ]
  },
  {
   "cell_type": "code",
   "execution_count": null,
   "metadata": {},
   "outputs": [],
   "source": []
  }
 ],
 "metadata": {
  "kernelspec": {
   "display_name": "ant_sim",
   "language": "python",
   "name": "python3"
  },
  "language_info": {
   "codemirror_mode": {
    "name": "ipython",
    "version": 3
   },
   "file_extension": ".py",
   "mimetype": "text/x-python",
   "name": "python",
   "nbconvert_exporter": "python",
   "pygments_lexer": "ipython3",
   "version": "3.8.18"
  }
 },
 "nbformat": 4,
 "nbformat_minor": 2
}
